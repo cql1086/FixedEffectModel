{
 "cells": [
  {
   "cell_type": "code",
   "execution_count": 17,
   "metadata": {},
   "outputs": [],
   "source": [
    "# need to install from kuaishou product base\n",
    "from FixedEffectModel.api import *\n",
    "from utils.panel_dgp import gen_data\n",
    "\n",
    "N = 100\n",
    "T = 10\n",
    "beta = [-3,-1.5,1,2,3,4,5] \n",
    "alpha = 0.9\n",
    "ate = 1 \n",
    "exp_date = 2\n",
    "\n",
    "#random remove N-1 obs to create unbalance case\n",
    "data_df = gen_data(N, T, beta, ate, exp_date)\n",
    "\n"
   ]
  },
  {
   "cell_type": "markdown",
   "metadata": {},
   "source": [
    "# Estimation\n",
    "## DID\n",
    "### 1. DID using self defined cross product"
   ]
  },
  {
   "cell_type": "code",
   "execution_count": 9,
   "metadata": {},
   "outputs": [
    {
     "name": "stdout",
     "output_type": "stream",
     "text": [
      "demean time:     0.0098 s\n",
      "time used to calculate degree of freedom of category variables:     0.0003 s\n",
      "degree of freedom of category variables: 10\n",
      "['x_1', 'treatment', 'post*treatment']\n",
      "                  High Dimensional Fixed Effect Regression Results                  \n",
      "====================================================================================\n",
      "  Dep. Variable:               y   R-squared(proj model):                   0.0331  \n",
      "  No. Observations:         1000   Adj. R-squared(proj model):              0.0213  \n",
      "  DoF of residual:         987.0   R-squared(full model):                   0.0595  \n",
      "  Residual std err:       7.3724   Adj. R-squared(full model):              0.0471  \n",
      "  Covariance Type:     nonrobust   F-statistic(proj model):                11.2609  \n",
      "  Cluster Method:     no_cluster   Prob (F-statistic (proj model)):      2.874e-07  \n",
      "                                   DoF of F-test (proj model):        [3.0, 987.0]  \n",
      "                                   F-statistic(full model):                 4.8008  \n",
      "                                   Prob (F-statistic (full model)):      3.697e-08  \n",
      "                                   DoF of F-test (full model):           [13, 987]  \n",
      "============================================================================================\n",
      "                       coef nonrobust std err          t      P>|t|     [0.025     0.975]   \n",
      "--------------------------------------------------------------------------------------------\n",
      "  const            -2.90935           0.26908   -10.8123     0.0000    -3.4374    -2.3813   \n",
      "  x_1               1.28514           0.23794     5.4010     0.0000     0.8182     1.7521   \n",
      "  treatment         3.68267           1.70248     2.1631     0.0308     0.3418     7.0236   \n",
      "  post*treatment   -3.28275           1.79472    -1.8291     0.0677    -6.8047     0.2392   \n",
      "============================================================================================\n"
     ]
    }
   ],
   "source": [
    "\n",
    "category_col = ['time'] # group variable, can be id or time\n",
    "consist_col = ['x_1','treatment','post*treatment'] #independent variables\n",
    "out_col = ['y'] # dependent variable\n",
    "\n",
    "result0 = ols_high_d_category(data_df,\n",
    "                             consist_col,\n",
    "                             out_col,\n",
    "                             category_col)\n",
    "result0.summary()"
   ]
  },
  {
   "cell_type": "markdown",
   "metadata": {},
   "source": [
    "### obtain fixedeffect"
   ]
  },
  {
   "cell_type": "code",
   "execution_count": 10,
   "metadata": {},
   "outputs": [
    {
     "data": {
      "text/html": [
       "<div>\n",
       "<style scoped>\n",
       "    .dataframe tbody tr th:only-of-type {\n",
       "        vertical-align: middle;\n",
       "    }\n",
       "\n",
       "    .dataframe tbody tr th {\n",
       "        vertical-align: top;\n",
       "    }\n",
       "\n",
       "    .dataframe thead th {\n",
       "        text-align: right;\n",
       "    }\n",
       "</style>\n",
       "<table border=\"1\" class=\"dataframe\">\n",
       "  <thead>\n",
       "    <tr style=\"text-align: right;\">\n",
       "      <th></th>\n",
       "      <th>dummy_name</th>\n",
       "      <th>effect</th>\n",
       "      <th>s.e</th>\n",
       "      <th>t-value</th>\n",
       "      <th>P&gt;|t|</th>\n",
       "    </tr>\n",
       "  </thead>\n",
       "  <tbody>\n",
       "    <tr>\n",
       "      <th>0</th>\n",
       "      <td>time1.0</td>\n",
       "      <td>-2.537932</td>\n",
       "      <td>0.872003</td>\n",
       "      <td>-2.910462</td>\n",
       "      <td>0.003690</td>\n",
       "    </tr>\n",
       "    <tr>\n",
       "      <th>1</th>\n",
       "      <td>time2.0</td>\n",
       "      <td>0.060358</td>\n",
       "      <td>0.774539</td>\n",
       "      <td>0.077927</td>\n",
       "      <td>0.937902</td>\n",
       "    </tr>\n",
       "    <tr>\n",
       "      <th>2</th>\n",
       "      <td>time3.0</td>\n",
       "      <td>-0.017641</td>\n",
       "      <td>0.774456</td>\n",
       "      <td>-0.022778</td>\n",
       "      <td>0.981832</td>\n",
       "    </tr>\n",
       "    <tr>\n",
       "      <th>3</th>\n",
       "      <td>time4.0</td>\n",
       "      <td>-0.037842</td>\n",
       "      <td>0.774141</td>\n",
       "      <td>-0.048883</td>\n",
       "      <td>0.961022</td>\n",
       "    </tr>\n",
       "    <tr>\n",
       "      <th>4</th>\n",
       "      <td>time5.0</td>\n",
       "      <td>1.804305</td>\n",
       "      <td>0.774146</td>\n",
       "      <td>2.330704</td>\n",
       "      <td>0.019970</td>\n",
       "    </tr>\n",
       "    <tr>\n",
       "      <th>5</th>\n",
       "      <td>time6.0</td>\n",
       "      <td>1.429572</td>\n",
       "      <td>0.774799</td>\n",
       "      <td>1.845086</td>\n",
       "      <td>0.065324</td>\n",
       "    </tr>\n",
       "    <tr>\n",
       "      <th>6</th>\n",
       "      <td>time7.0</td>\n",
       "      <td>1.862873</td>\n",
       "      <td>0.774150</td>\n",
       "      <td>2.406348</td>\n",
       "      <td>0.016296</td>\n",
       "    </tr>\n",
       "    <tr>\n",
       "      <th>7</th>\n",
       "      <td>time8.0</td>\n",
       "      <td>-0.479995</td>\n",
       "      <td>0.775413</td>\n",
       "      <td>-0.619018</td>\n",
       "      <td>0.536047</td>\n",
       "    </tr>\n",
       "    <tr>\n",
       "      <th>8</th>\n",
       "      <td>time9.0</td>\n",
       "      <td>-1.270961</td>\n",
       "      <td>0.774307</td>\n",
       "      <td>-1.641417</td>\n",
       "      <td>0.101029</td>\n",
       "    </tr>\n",
       "    <tr>\n",
       "      <th>9</th>\n",
       "      <td>time10.0</td>\n",
       "      <td>-0.812736</td>\n",
       "      <td>0.774762</td>\n",
       "      <td>-1.049014</td>\n",
       "      <td>0.294429</td>\n",
       "    </tr>\n",
       "  </tbody>\n",
       "</table>\n",
       "</div>"
      ],
      "text/plain": [
       "  dummy_name    effect       s.e   t-value     P>|t|\n",
       "0    time1.0 -2.537932  0.872003 -2.910462  0.003690\n",
       "1    time2.0  0.060358  0.774539  0.077927  0.937902\n",
       "2    time3.0 -0.017641  0.774456 -0.022778  0.981832\n",
       "3    time4.0 -0.037842  0.774141 -0.048883  0.961022\n",
       "4    time5.0  1.804305  0.774146  2.330704  0.019970\n",
       "5    time6.0  1.429572  0.774799  1.845086  0.065324\n",
       "6    time7.0  1.862873  0.774150  2.406348  0.016296\n",
       "7    time8.0 -0.479995  0.775413 -0.619018  0.536047\n",
       "8    time9.0 -1.270961  0.774307 -1.641417  0.101029\n",
       "9   time10.0 -0.812736  0.774762 -1.049014  0.294429"
      ]
     },
     "execution_count": 10,
     "metadata": {},
     "output_type": "execute_result"
    }
   ],
   "source": [
    "getfe(result0)"
   ]
  },
  {
   "cell_type": "markdown",
   "metadata": {},
   "source": [
    "### 2. DID using treatment_input"
   ]
  },
  {
   "cell_type": "code",
   "execution_count": 11,
   "metadata": {
    "scrolled": false
   },
   "outputs": [
    {
     "name": "stdout",
     "output_type": "stream",
     "text": [
      "You've updated default treatment input:  treatment_col\n",
      "You've updated default treatment input:  exp_date\n",
      "You've updated default treatment input:  effect\n"
     ]
    },
    {
     "name": "stderr",
     "output_type": "stream",
     "text": [
      "/Users/zhouxiaoyu/Desktop/FixedEffectModel/FixedEffectModel/GenCrossProd.py:54: UserWarning: You are doing DID with group effect\n",
      "  warnings.warn('You are doing DID with group effect')\n"
     ]
    },
    {
     "data": {
      "image/png": "[encoded data removed]",
      "text/plain": [
       "<Figure size 432x288 with 1 Axes>"
      ]
     },
     "metadata": {
      "needs_background": "light"
     },
     "output_type": "display_data"
    },
    {
     "name": "stdout",
     "output_type": "stream",
     "text": [
      "demean time:     0.0073 s\n",
      "time used to calculate degree of freedom of category variables:     0.0457 s\n",
      "degree of freedom of category variables: 109\n",
      "['x_1', 'treatment*post_experiment', 'treatment']\n",
      "                  High Dimensional Fixed Effect Regression Results                  \n",
      "====================================================================================\n",
      "  Dep. Variable:               y   R-squared(proj model):                   0.0331  \n",
      "  No. Observations:         1000   Adj. R-squared(proj model):             -0.0878  \n",
      "  DoF of residual:         888.0   R-squared(full model):                   0.0595  \n",
      "  Residual std err:       7.7730   Adj. R-squared(full model):             -0.0591  \n",
      "  Covariance Type:     nonrobust   F-statistic(proj model):                10.1314  \n",
      "  Cluster Method:     no_cluster   Prob (F-statistic (proj model)):      1.447e-06  \n",
      "                                   DoF of F-test (proj model):        [3.0, 888.0]  \n",
      "                                   F-statistic(full model):                 0.5013  \n",
      "                                   Prob (F-statistic (full model)):         1.0000  \n",
      "                                   DoF of F-test (full model):          [112, 888]  \n",
      "=======================================================================================================\n",
      "                                  coef nonrobust std err          t      P>|t|     [0.025     0.975]   \n",
      "-------------------------------------------------------------------------------------------------------\n",
      "  const                       -2.90935           0.28368   -10.2558     0.0000    -3.4661    -2.3526   \n",
      "  x_1                          1.28514           0.25086     5.1230     0.0000     0.7928     1.7775   \n",
      "  treatment*post_experiment   -3.28275           1.89212    -1.7350     0.0831    -6.9963     0.4308   \n",
      "  treatment                    3.68267           1.79488     2.0518     0.0405     0.1600     7.2054   \n",
      "=======================================================================================================\n"
     ]
    }
   ],
   "source": [
    "category_col = ['id','time']\n",
    "consist_col = ['x_1']\n",
    "out_col = ['y']\n",
    "\n",
    "result0 = ols_high_d_category(data_df,\n",
    "                             consist_col,\n",
    "                             out_col,\n",
    "                             category_col,\n",
    "                             treatment_input={'treatment_col':'treatment', 'exp_date': 2,'effect': 'group'})\n",
    "result0.summary()"
   ]
  },
  {
   "cell_type": "code",
   "execution_count": 12,
   "metadata": {
    "scrolled": false
   },
   "outputs": [
    {
     "data": {
      "text/html": [
       "<div>\n",
       "<style scoped>\n",
       "    .dataframe tbody tr th:only-of-type {\n",
       "        vertical-align: middle;\n",
       "    }\n",
       "\n",
       "    .dataframe tbody tr th {\n",
       "        vertical-align: top;\n",
       "    }\n",
       "\n",
       "    .dataframe thead th {\n",
       "        text-align: right;\n",
       "    }\n",
       "</style>\n",
       "<table border=\"1\" class=\"dataframe\">\n",
       "  <thead>\n",
       "    <tr style=\"text-align: right;\">\n",
       "      <th></th>\n",
       "      <th>dummy_name</th>\n",
       "      <th>effect</th>\n",
       "      <th>s.e</th>\n",
       "      <th>t-value</th>\n",
       "      <th>P&gt;|t|</th>\n",
       "    </tr>\n",
       "  </thead>\n",
       "  <tbody>\n",
       "    <tr>\n",
       "      <th>0</th>\n",
       "      <td>time1.0</td>\n",
       "      <td>-2.537932</td>\n",
       "      <td>0.919328</td>\n",
       "      <td>-2.760640</td>\n",
       "      <td>0.005888</td>\n",
       "    </tr>\n",
       "    <tr>\n",
       "      <th>1</th>\n",
       "      <td>time2.0</td>\n",
       "      <td>0.060358</td>\n",
       "      <td>0.816573</td>\n",
       "      <td>0.073916</td>\n",
       "      <td>0.941094</td>\n",
       "    </tr>\n",
       "    <tr>\n",
       "      <th>2</th>\n",
       "      <td>time3.0</td>\n",
       "      <td>-0.017641</td>\n",
       "      <td>0.816486</td>\n",
       "      <td>-0.021606</td>\n",
       "      <td>0.982767</td>\n",
       "    </tr>\n",
       "    <tr>\n",
       "      <th>3</th>\n",
       "      <td>time4.0</td>\n",
       "      <td>-0.037842</td>\n",
       "      <td>0.816154</td>\n",
       "      <td>-0.046367</td>\n",
       "      <td>0.963028</td>\n",
       "    </tr>\n",
       "    <tr>\n",
       "      <th>4</th>\n",
       "      <td>time5.0</td>\n",
       "      <td>1.804305</td>\n",
       "      <td>0.816159</td>\n",
       "      <td>2.210727</td>\n",
       "      <td>0.027309</td>\n",
       "    </tr>\n",
       "    <tr>\n",
       "      <th>5</th>\n",
       "      <td>time6.0</td>\n",
       "      <td>1.429572</td>\n",
       "      <td>0.816848</td>\n",
       "      <td>1.750107</td>\n",
       "      <td>0.080445</td>\n",
       "    </tr>\n",
       "    <tr>\n",
       "      <th>6</th>\n",
       "      <td>time7.0</td>\n",
       "      <td>1.862873</td>\n",
       "      <td>0.816163</td>\n",
       "      <td>2.282476</td>\n",
       "      <td>0.022697</td>\n",
       "    </tr>\n",
       "    <tr>\n",
       "      <th>7</th>\n",
       "      <td>time8.0</td>\n",
       "      <td>-0.479995</td>\n",
       "      <td>0.817495</td>\n",
       "      <td>-0.587153</td>\n",
       "      <td>0.557250</td>\n",
       "    </tr>\n",
       "    <tr>\n",
       "      <th>8</th>\n",
       "      <td>time9.0</td>\n",
       "      <td>-1.270961</td>\n",
       "      <td>0.816329</td>\n",
       "      <td>-1.556922</td>\n",
       "      <td>0.119845</td>\n",
       "    </tr>\n",
       "    <tr>\n",
       "      <th>9</th>\n",
       "      <td>time10.0</td>\n",
       "      <td>-0.812736</td>\n",
       "      <td>0.816809</td>\n",
       "      <td>-0.995014</td>\n",
       "      <td>0.320001</td>\n",
       "    </tr>\n",
       "  </tbody>\n",
       "</table>\n",
       "</div>"
      ],
      "text/plain": [
       "  dummy_name    effect       s.e   t-value     P>|t|\n",
       "0    time1.0 -2.537932  0.919328 -2.760640  0.005888\n",
       "1    time2.0  0.060358  0.816573  0.073916  0.941094\n",
       "2    time3.0 -0.017641  0.816486 -0.021606  0.982767\n",
       "3    time4.0 -0.037842  0.816154 -0.046367  0.963028\n",
       "4    time5.0  1.804305  0.816159  2.210727  0.027309\n",
       "5    time6.0  1.429572  0.816848  1.750107  0.080445\n",
       "6    time7.0  1.862873  0.816163  2.282476  0.022697\n",
       "7    time8.0 -0.479995  0.817495 -0.587153  0.557250\n",
       "8    time9.0 -1.270961  0.816329 -1.556922  0.119845\n",
       "9   time10.0 -0.812736  0.816809 -0.995014  0.320001"
      ]
     },
     "execution_count": 12,
     "metadata": {},
     "output_type": "execute_result"
    }
   ],
   "source": [
    "getfe(result0)"
   ]
  },
  {
   "cell_type": "markdown",
   "metadata": {},
   "source": [
    "## IV"
   ]
  },
  {
   "cell_type": "code",
   "execution_count": 24,
   "metadata": {},
   "outputs": [
    {
     "name": "stdout",
     "output_type": "stream",
     "text": [
      "dependent variable(s): ['y']\n",
      "independent(exogenous): ['x_1', 'x_2']\n",
      "category variables(fixed effects): ['id', 'time']\n",
      "cluster variables: ['0']\n",
      "endogenous variables: ['x_3', 'x_4']\n",
      "instruments: ['x_5', 'x_6']\n",
      "demean time:     0.0527 s\n",
      "time used to calculate degree of freedom of category variables:     0.0032 s\n",
      "degree of freedom of category variables: 109\n",
      "['x_1', 'x_2']\n",
      "                  High Dimensional Fixed Effect Regression Results                  \n",
      "====================================================================================\n",
      "  Dep. Variable:               y   R-squared(proj model):               -2.749e+05  \n",
      "  No. Observations:         1000   Adj. R-squared(proj model):          -3.096e+05  \n",
      "  DoF of residual:         887.0   R-squared(full model):               -2.416e+05  \n",
      "  Residual std err:    3977.6992   Adj. R-squared(full model):          -2.724e+05  \n",
      "  Covariance Type:     nonrobust   F-statistic(proj model):               679.9166  \n",
      "  Cluster Method:     no_cluster   Prob (F-statistic (proj model)):     2.255e-268  \n",
      "                                   DoF of F-test (proj model):        [4.0, 887.0]  \n",
      "                                   F-statistic(full model):              2.543e-05  \n",
      "                                   Prob (F-statistic (full model)):         1.0000  \n",
      "                                   DoF of F-test (full model):          [113, 887]  \n",
      "=========================================================================================\n",
      "                    coef nonrobust std err          t      P>|t|     [0.025     0.975]   \n",
      "-----------------------------------------------------------------------------------------\n",
      "  const       -250.73283           7.45532   -33.6314     0.0000  -265.3649  -236.1007   \n",
      "  x_1           48.64828           1.46982    33.0981     0.0000    45.7635    51.5330   \n",
      "  x_2          153.05847           4.50555    33.9711     0.0000   144.2157   161.9012   \n",
      "  hat_x_3    -3904.29585         115.58436   -33.7788     0.0000 -4131.1466 -3677.4451   \n",
      "  hat_x_4      755.68036          19.47991    38.7928     0.0000   717.4483   793.9124   \n",
      "=========================================================================================\n",
      "=============================================\n",
      "             First-Stage F-stat      P > F   \n",
      "---------------------------------------------\n",
      "  x_3                    0.4130     0.7994   \n",
      "  x_4                    0.5341     0.7107   \n",
      "=============================================\n"
     ]
    }
   ],
   "source": [
    "#iv\n",
    "formula = 'y~x_1+x_2|id+time|0|(x_3|x_4~x_5+x_6)'\n",
    "result = ols_high_d_category(data_df, formula = formula)\n",
    "result.summary()"
   ]
  },
  {
   "cell_type": "code",
   "execution_count": 25,
   "metadata": {},
   "outputs": [
    {
     "name": "stdout",
     "output_type": "stream",
     "text": [
      "Weak IV test with critical values based on 2SLS size\n",
      "================================================\n",
      "  Cragg-Donald Statistics:            0.000577  \n",
      "  number of instrumental variables:          2  \n",
      "  number of endogenous variables:            2  \n",
      "=============================================================================\n",
      "                                      5%        10%        20%        30%    \n",
      "-----------------------------------------------------------------------------\n",
      "2SLS Size of nominal 5% Wald test     7.0300     4.5800     3.9500     3.6300\n",
      "-----------------------------------------------------------------------------\n",
      "H0: Instruments are weak\n",
      "\n",
      "     Over identification test - nonrobust     \n",
      "==============================================\n",
      "                    test statistics  p values \n",
      "----------------------------------------------\n",
      "Sargan Statistics:                0          0\n",
      "Basmann Statistics:               0          0\n",
      "----------------------------------------------\n",
      "\n",
      "             Tests of endogeneity            \n",
      "=============================================\n",
      "                   test statistics  p values \n",
      "---------------------------------------------\n",
      "Durbin Statistics:        974.8824          0\n",
      "---------------------------------------------\n",
      "H0: variables are exogenous\n"
     ]
    }
   ],
   "source": [
    "ivtest(result)"
   ]
  },
  {
   "cell_type": "code",
   "execution_count": null,
   "metadata": {},
   "outputs": [],
   "source": []
  }
 ],
 "metadata": {
  "kernelspec": {
   "display_name": "Python 3",
   "language": "python",
   "name": "python3"
  },
  "language_info": {
   "codemirror_mode": {
    "name": "ipython",
    "version": 3
   },
   "file_extension": ".py",
   "mimetype": "text/x-python",
   "name": "python",
   "nbconvert_exporter": "python",
   "pygments_lexer": "ipython3",
   "version": "3.8.2"
  }
 },
 "nbformat": 4,
 "nbformat_minor": 4
}
